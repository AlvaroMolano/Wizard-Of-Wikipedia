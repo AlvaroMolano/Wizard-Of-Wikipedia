{
  "nbformat": 4,
  "nbformat_minor": 0,
  "metadata": {
    "colab": {
      "name": "random_model.ipynb",
      "version": "0.3.2",
      "provenance": [],
      "collapsed_sections": []
    },
    "kernelspec": {
      "name": "python3",
      "display_name": "Python 3"
    }
  },
  "cells": [
    {
      "cell_type": "code",
      "metadata": {
        "id": "7vnQVDoItAhF",
        "colab_type": "code",
        "colab": {
          "base_uri": "https://localhost:8080/",
          "height": 124
        },
        "outputId": "6389548e-8cd0-47f3-81bf-4bc66f918f19"
      },
      "source": [
        "from google.colab import drive\n",
        "drive.mount('/content/drive')"
      ],
      "execution_count": 4,
      "outputs": [
        {
          "output_type": "stream",
          "text": [
            "Go to this URL in a browser: https://accounts.google.com/o/oauth2/auth?client_id=947318989803-6bn6qk8qdgf4n4g3pfee6491hc0brc4i.apps.googleusercontent.com&redirect_uri=urn%3Aietf%3Awg%3Aoauth%3A2.0%3Aoob&scope=email%20https%3A%2F%2Fwww.googleapis.com%2Fauth%2Fdocs.test%20https%3A%2F%2Fwww.googleapis.com%2Fauth%2Fdrive%20https%3A%2F%2Fwww.googleapis.com%2Fauth%2Fdrive.photos.readonly%20https%3A%2F%2Fwww.googleapis.com%2Fauth%2Fpeopleapi.readonly&response_type=code\n",
            "\n",
            "Enter your authorization code:\n",
            "··········\n",
            "Mounted at /content/drive\n"
          ],
          "name": "stdout"
        }
      ]
    },
    {
      "cell_type": "code",
      "metadata": {
        "id": "dyDZOLdCtLgh",
        "colab_type": "code",
        "colab": {
          "base_uri": "https://localhost:8080/",
          "height": 55
        },
        "outputId": "e8fe867a-87fa-4331-9b29-ca87cec94dd1"
      },
      "source": [
        "\"\"\"\n",
        "This is the random model for the wizard of wikipedia task. There is no trainable model here only random retrieval of utterances of wizards.\n",
        "This model runs on the test dataset.\n",
        "\n",
        "Deepak Goyal <deepak.16je002137@ece.iitism.ac.in>\n",
        "\"\"\""
      ],
      "execution_count": 5,
      "outputs": [
        {
          "output_type": "execute_result",
          "data": {
            "text/plain": [
              "'\\nThis is the random model for the wizard of wikipedia task. There is no trainable model here only random retrieval of utterances of wizards.\\nThis model runs on the test dataset.\\n\\nDeepak Goyal <deepak.16je002137@ece.iitism.ac.in>\\n'"
            ]
          },
          "metadata": {
            "tags": []
          },
          "execution_count": 5
        }
      ]
    },
    {
      "cell_type": "code",
      "metadata": {
        "id": "eo6Ez3ZuuV2k",
        "colab_type": "code",
        "colab": {}
      },
      "source": [
        "import json\n",
        "import os\n",
        "import re\n",
        "import math\n",
        "import copy\n",
        "import os\n",
        "import string\n",
        "import time\n",
        "from sklearn.utils import shuffle\n",
        "import random"
      ],
      "execution_count": 0,
      "outputs": []
    },
    {
      "cell_type": "code",
      "metadata": {
        "id": "tDDqf8zBudpN",
        "colab_type": "code",
        "colab": {}
      },
      "source": [
        "# Specify which machine you are running things\n",
        "\n",
        "running_device = 'colab'"
      ],
      "execution_count": 0,
      "outputs": []
    },
    {
      "cell_type": "code",
      "metadata": {
        "id": "RWM0IrLLujU0",
        "colab_type": "code",
        "colab": {}
      },
      "source": [
        "def raw_data_loader(running_device, name):\n",
        "    \"\"\" \n",
        "        Function for loading json data into a list\n",
        "    \"\"\"\n",
        "\n",
        "    file_dir = ''\n",
        "    file_name = name\n",
        "    if running_device == 'local':\n",
        "        file_dir = \\\n",
        "            '/home/naive/Documents/rohit/Wizard Of Wikipedia/Dataset'\n",
        "    elif running_device == 'colab':\n",
        "        file_dir = \\\n",
        "            '/content/drive/My Drive/Data/Wizard of Wikipedia/wizard_of_wikipedia'\n",
        "    else:\n",
        "        print('Invalid running device')\n",
        "        return\n",
        "\n",
        "    data = os.path.join(file_dir, file_name)\n",
        "\n",
        "    json_data = None\n",
        "    with open(data) as f:\n",
        "        json_data = json.load(f)\n",
        "\n",
        "    return json_data\n",
        "\n"
      ],
      "execution_count": 0,
      "outputs": []
    },
    {
      "cell_type": "code",
      "metadata": {
        "id": "BV4-I0Y3ulCD",
        "colab_type": "code",
        "colab": {
          "base_uri": "https://localhost:8080/",
          "height": 52
        },
        "outputId": "ad890207-f152-4e29-eca3-a630547758d3"
      },
      "source": [
        "json_data = None\n",
        "\n",
        "print('Loading Raw Data into a list....')\n",
        "\n",
        "t1 = time.time()\n",
        "json_data_seen = raw_data_loader(running_device,\n",
        "                                 'test_random_split.json')\n",
        "json_data_unseen = raw_data_loader(running_device,\n",
        "                                   'test_topic_split.json')\n",
        "t2 = time.time()\n",
        "\n",
        "print('Loading raw data took ' + str(t2 - t1) + ' seconds')\n"
      ],
      "execution_count": 10,
      "outputs": [
        {
          "output_type": "stream",
          "text": [
            "Loading Raw Data into a list....\n",
            "Loading raw data took 10.206515312194824 seconds\n"
          ],
          "name": "stdout"
        }
      ]
    },
    {
      "cell_type": "code",
      "metadata": {
        "id": "R4xZysyNu8Lx",
        "colab_type": "code",
        "colab": {
          "base_uri": "https://localhost:8080/",
          "height": 52
        },
        "outputId": "4c99cfb3-09cb-4a85-f65c-bd984733def2"
      },
      "source": [
        "print(\"Number of Conversations in seen test topics data: \"+str(len(json_data_seen)))\n",
        "print(\"Number of Conversations in unseen test topics data: \"+str(len(json_data_unseen)))"
      ],
      "execution_count": 11,
      "outputs": [
        {
          "output_type": "stream",
          "text": [
            "Number of Conversations in seen test topics data: 965\n",
            "Number of Conversations in unseen test topics data: 968\n"
          ],
          "name": "stdout"
        }
      ]
    },
    {
      "cell_type": "code",
      "metadata": {
        "id": "lHDDiY4XvH5l",
        "colab_type": "code",
        "colab": {}
      },
      "source": [
        "class vocabulary:\n",
        "\n",
        "    \"\"\" Creates vocabulary for our corpus data of conversations\"\"\"\n",
        "\n",
        "    def __init__(self):\n",
        "        \"\"\"\n",
        "            self.word2Index(Dictionary): Maps words to tokens\n",
        "            self.num_words(Scalar)     : Number of distinct words in the vocabulary\n",
        "            \n",
        "        \"\"\"\n",
        "\n",
        "        self.word2Index = {'PAD': 0, '<START>': 1, '<END>': 2}\n",
        "        self.num_words = 3\n",
        "\n",
        "    def addSentence(self, sentence):\n",
        "        \"\"\" \n",
        "            Adds sentences into vocabulary by splitting them\n",
        "        \"\"\"\n",
        "\n",
        "        for word in sentence.split(' '):\n",
        "            self.addWord(word)\n",
        "\n",
        "    def addWord(self, word):\n",
        "\n",
        "        if word not in self.word2Index.keys():\n",
        "            self.word2Index[word] = self.num_words\n",
        "            self.num_words += 1\n"
      ],
      "execution_count": 0,
      "outputs": []
    },
    {
      "cell_type": "code",
      "metadata": {
        "id": "D7wkEqDHxJUU",
        "colab_type": "code",
        "colab": {}
      },
      "source": [
        "# Preprocessing functions for the data\n",
        "\n",
        "\n",
        "def remove_punctuation(sentence):\n",
        "\n",
        "    # thanks to https://stackoverflow.com/questions/265960/best-way-to-strip-punctuation-from-a-string\n",
        "\n",
        "    return sentence.translate(str.maketrans('', '',\n",
        "                              string.punctuation)).lower().strip()\n",
        "\n"
      ],
      "execution_count": 0,
      "outputs": []
    },
    {
      "cell_type": "code",
      "metadata": {
        "id": "OrpySkEmxMs_",
        "colab_type": "code",
        "colab": {
          "base_uri": "https://localhost:8080/",
          "height": 52
        },
        "outputId": "0bcb5838-400d-4477-b988-a984881521ad"
      },
      "source": [
        "def load_data(data_json):\n",
        "\n",
        "    (context, knowledge, wizard) = ([], [], [])\n",
        "    dict2cnt = {}\n",
        "    count = 0\n",
        "\n",
        "    N = len(data_json)\n",
        "    for id in range(N):\n",
        "\n",
        "        (current_knowledge, current_wizard, context_knowledge,\n",
        "         previous_context) = ([], [], [], [])\n",
        "        tmp_context = []\n",
        "\n",
        "        current_conv = data_json[id]\n",
        "\n",
        "        topic_chosen = remove_punctuation(current_conv['chosen_topic'])\n",
        "        tmp_context.append(topic_chosen)\n",
        "\n",
        "        conversation_length = len(current_conv['dialog'])\n",
        "\n",
        "        for i in range(conversation_length):\n",
        "\n",
        "            if current_conv['dialog'][i]['speaker'] == '0_Wizard':\n",
        "\n",
        "                dict2cnt[count] = len(current_conv['dialog'\n",
        "                        ][i]['retrieved_passages'])\n",
        "                count = count + 1\n",
        "\n",
        "                for x in range(len(current_conv['dialog'\n",
        "                               ][i]['retrieved_passages'])):\n",
        "\n",
        "                    idx = current_conv['dialog'][i]['retrieved_passages'\n",
        "                            ][x]\n",
        "\n",
        "                    for value in idx.values():\n",
        "\n",
        "                        for j in range(len(value)):\n",
        "                            value[j] = remove_punctuation(value[j])\n",
        "\n",
        "                        current_knowledge.append(value)\n",
        "\n",
        "                wizard_dialog = remove_punctuation(current_conv['dialog'\n",
        "                        ][i]['text'])\n",
        "\n",
        "                current_wizard.append(wizard_dialog)\n",
        "                tmp_context.append(wizard_dialog)\n",
        "            else:\n",
        "\n",
        "                apperentice_dialog = \\\n",
        "                    remove_punctuation(current_conv['dialog'][i]['text'\n",
        "                        ])\n",
        "                tmp_context.append(apperentice_dialog)\n",
        "\n",
        "        knowledge.append(current_knowledge)\n",
        "        wizard.append(current_wizard)\n",
        "\n",
        "        final_context = []\n",
        "        flag = True\n",
        "\n",
        "        if current_conv['dialog'][0]['speaker'] == '0_Wizard':\n",
        "            flag = False\n",
        "\n",
        "        for i in range(len(tmp_context)):\n",
        "            temp = []\n",
        "\n",
        "            for j in range(i + 1):\n",
        "                temp.append(tmp_context[j])\n",
        "\n",
        "            if flag:\n",
        "                if i % 2 != 0 and len(final_context) \\\n",
        "                    < len(current_wizard):\n",
        "                    final_context.append(temp)\n",
        "            else:\n",
        "\n",
        "                if i % 2 == 0 and len(final_context) \\\n",
        "                    < len(current_wizard):\n",
        "                    final_context.append(temp)\n",
        "\n",
        "        context.append(final_context)\n",
        "\n",
        "    return (context, knowledge, wizard, dict2cnt)\n",
        "\n",
        "\n",
        "print( \"Getting test conversation's context, knowledge, wizard utterances..\")\n",
        "t1 = time.time()\n",
        "(context, knowledge, wizard, dict2cnt) = load_data(json_data_seen)\n",
        "(us_context, us_knowledge, us_wizard, us_dict2cnt) = \\\n",
        "    load_data(json_data_unseen)\n",
        "t2 = time.time()\n",
        "print('This took: ' + str(t2 - t1) + ' seconds')"
      ],
      "execution_count": 14,
      "outputs": [
        {
          "output_type": "stream",
          "text": [
            "Getting test conversation's context, knowledge, wizard utterances..\n",
            "This took: 1.5522103309631348 seconds\n"
          ],
          "name": "stdout"
        }
      ]
    },
    {
      "cell_type": "code",
      "metadata": {
        "id": "f5KpEg-g5asv",
        "colab_type": "code",
        "colab": {
          "base_uri": "https://localhost:8080/",
          "height": 52
        },
        "outputId": "4bc77817-0f44-4e55-9db9-4ef5df3a27d7"
      },
      "source": [
        "num_wizard = 0\n",
        "us_num_wizard = 0\n",
        "\n",
        "for i in wizard:\n",
        "    num_wizard += len(i)\n",
        "\n",
        "for i in us_wizard:\n",
        "    us_num_wizard += len(i)\n",
        "\n",
        "print('Number of times wizard speaks in seen test dataset: ' \\\n",
        "    + str(num_wizard))\n",
        "print('Number of times wizard speaks in unseen test dataset: ' \\\n",
        "    + str(us_num_wizard))\n"
      ],
      "execution_count": 15,
      "outputs": [
        {
          "output_type": "stream",
          "text": [
            "Number of times wizard speaks in seen test dataset: 2224\n",
            "Number of times wizard speaks in unseen test dataset: 2075\n"
          ],
          "name": "stdout"
        }
      ]
    },
    {
      "cell_type": "code",
      "metadata": {
        "id": "PN5Wr-OOyWkK",
        "colab_type": "code",
        "colab": {
          "base_uri": "https://localhost:8080/",
          "height": 52
        },
        "outputId": "e52bba17-1968-4c71-d660-fec724ea4b97"
      },
      "source": [
        "def after_load_process(\n",
        "    context,\n",
        "    knowledge,\n",
        "    wizard,\n",
        "    dict2cnt,\n",
        "    num,\n",
        "    ):\n",
        "    input_context = []\n",
        "    input_knowledge = []\n",
        "    output_wizard = []\n",
        "    for i in range(len(wizard)):\n",
        "        for c in context[i]:\n",
        "            input_context.append(c)\n",
        "        for k in knowledge[i]:\n",
        "            input_knowledge.append(k)\n",
        "        for w in wizard[i]:\n",
        "            output_wizard.append(w)\n",
        "\n",
        "    input_knowledge2 = []\n",
        "    index = 0\n",
        "    for i in range(num):\n",
        "        r = dict2cnt[i]\n",
        "        tmp = []\n",
        "        fr = index\n",
        "        to = index + r\n",
        "        for j in range(fr, to):\n",
        "            tmp.append(input_knowledge[index])\n",
        "            index = index + 1\n",
        "        input_knowledge2.append(tmp)\n",
        "    input_knowledge3 = []\n",
        "    for i in range(len(input_knowledge2)):\n",
        "        g = []\n",
        "        for j in range(len(input_knowledge2[i])):\n",
        "            s = ''\n",
        "            for k in range(len(input_knowledge2[i][j])):\n",
        "                s = s + ' ' + input_knowledge2[i][j][k]\n",
        "            s = s.strip()\n",
        "            g.append(s)\n",
        "        input_knowledge3.append(g)\n",
        "    return (input_context, input_knowledge3, output_wizard)\n",
        "\n",
        "\n",
        "print('Converting the extracted sentences into lists...')\n",
        "t1 = time.time()\n",
        "(final_context, final_knowledge, final_wizard) = \\\n",
        "    after_load_process(context, knowledge, wizard, dict2cnt, num_wizard)\n",
        "(us_final_context, us_final_knowledge, us_final_wizard) = \\\n",
        "    after_load_process(us_context, us_knowledge, us_wizard,\n",
        "                       us_dict2cnt, us_num_wizard)\n",
        "t2 = time.time()\n",
        "print('This took: ' + str(t2 - t1) + ' seconds')\n"
      ],
      "execution_count": 16,
      "outputs": [
        {
          "output_type": "stream",
          "text": [
            "Converting the extracted sentences into lists...\n",
            "This took: 0.15073180198669434 seconds\n"
          ],
          "name": "stdout"
        }
      ]
    },
    {
      "cell_type": "code",
      "metadata": {
        "id": "u6uRQY8rxr9X",
        "colab_type": "code",
        "colab": {}
      },
      "source": [
        "max_length = 70\n",
        "\n",
        "\n",
        "def process(sentence):\n",
        "    \"\"\"\n",
        "        Preprocessing sentencing to make them of equal length and appending and terminating them with\n",
        "        start (<START>) and end (<END>) token.\n",
        "        \n",
        "    \"\"\"\n",
        "\n",
        "    words = sentence.split()\n",
        "    sentence_length = max_length - 2\n",
        "    if len(words) <= sentence_length:\n",
        "        for i in range(sentence_length - len(words)):\n",
        "            words.append('PAD')\n",
        "    else:\n",
        "        words = words[:sentence_length]\n",
        "\n",
        "    res = ''\n",
        "    words.append('<END>')\n",
        "    words.insert(0, '<START>')\n",
        "    assert len(words) == max_length\n",
        "    for w in words:\n",
        "        res = res + ' ' + w\n",
        "    res = res.strip()\n",
        "    return res\n"
      ],
      "execution_count": 0,
      "outputs": []
    },
    {
      "cell_type": "code",
      "metadata": {
        "id": "5GdtN54S6oG2",
        "colab_type": "code",
        "colab": {
          "base_uri": "https://localhost:8080/",
          "height": 52
        },
        "outputId": "36bc5409-c6d8-459b-e717-049604718afe"
      },
      "source": [
        "vocab = vocabulary()\n",
        "\n",
        "\n",
        "def process_loaded(input_context, input_knowledge, output_wizard):\n",
        "    \"\"\" Processing sentences and forming vocabulary\n",
        "    \"\"\"\n",
        "\n",
        "    for i in range(len(output_wizard)):\n",
        "        output_wizard[i] = process(output_wizard[i])\n",
        "        vocab.addSentence(output_wizard[i])\n",
        "        assert len(output_wizard[i].split()) == max_length\n",
        "\n",
        "    for i in range(len(input_knowledge)):\n",
        "        for j in range(len(input_knowledge[i])):\n",
        "            input_knowledge[i][j] = process(input_knowledge[i][j])\n",
        "            vocab.addSentence(input_knowledge[i][j])\n",
        "            assert len(input_knowledge[i][j].split()) == max_length\n",
        "\n",
        "    for i in range(len(input_context)):\n",
        "        for j in range(len(input_context[i])):\n",
        "            input_context[i][j] = process(input_context[i][j])\n",
        "            vocab.addSentence(input_context[i][j])\n",
        "            assert len(input_context[i][j].split()) == max_length\n",
        "    return (input_context, input_knowledge, output_wizard)\n",
        "\n",
        "\n",
        "print('Processing fetched sentences...')\n",
        "t1 = time.time()\n",
        "(p_context, p_knowledge, p_wizard) = process_loaded(final_context,\n",
        "        final_knowledge, final_wizard)\n",
        "(us_p_context, us_p_knowledge, us_p_wizard) = \\\n",
        "    process_loaded(us_final_context, us_final_knowledge,\n",
        "                   us_final_wizard)\n",
        "t2 = time.time()\n",
        "print('This process took: ' + str(t2 - t1))\n"
      ],
      "execution_count": 18,
      "outputs": [
        {
          "output_type": "stream",
          "text": [
            "Processing fetched sentences...\n",
            "This process took: 3.3055410385131836\n"
          ],
          "name": "stdout"
        }
      ]
    },
    {
      "cell_type": "code",
      "metadata": {
        "id": "lp1JUr0-7np9",
        "colab_type": "code",
        "colab": {
          "base_uri": "https://localhost:8080/",
          "height": 87
        },
        "outputId": "f47f2a45-b6ef-4049-a5e1-c3ab9aa3787b"
      },
      "source": [
        "##########################SANITY CHECK##########################\n",
        "\n",
        "\n",
        "def sanity_check(\n",
        "    context,\n",
        "    knowledge,\n",
        "    wizard,\n",
        "    num,\n",
        "    data,\n",
        "    ):\n",
        "    assert len(wizard) == num\n",
        "    assert len(context) == num\n",
        "    assert len(knowledge) == num\n",
        "\n",
        "    print('Running Sanity Checks on the data...' + data)\n",
        "\n",
        "    t1 = time.time()\n",
        "\n",
        "    for i in range(len(wizard)):\n",
        "        assert len(wizard[i].split()) == max_length\n",
        "\n",
        "    for i in range(len(context)):\n",
        "        for j in range(len(context[i])):\n",
        "            assert len(context[i][j].split()) == max_length\n",
        "\n",
        "    for i in range(len(knowledge)):\n",
        "        for j in range(len(knowledge[i])):\n",
        "            assert len(knowledge[i][j].split()) == max_length\n",
        "\n",
        "\n",
        "t1 = time.time()\n",
        "\n",
        "sanity_check(p_context, p_knowledge, p_wizard, num_wizard,\n",
        "             'test seen data')\n",
        "sanity_check(us_p_context, us_p_knowledge, us_p_wizard, us_num_wizard,\n",
        "             'test unseen data')\n",
        "\n",
        "t2 = time.time()\n",
        "print('Everything seems fine.')\n",
        "print('Sanity Checks took: ' + str(t2 - t1) + ' seconds')\n",
        "\n",
        "################################################################\n"
      ],
      "execution_count": 20,
      "outputs": [
        {
          "output_type": "stream",
          "text": [
            "Running Sanity Checks on the data...test seen data\n",
            "Running Sanity Checks on the data...test unseen data\n",
            "Everything seems fine.\n",
            "Sanity Checks took: 0.2047266960144043 seconds\n"
          ],
          "name": "stdout"
        }
      ]
    },
    {
      "cell_type": "code",
      "metadata": {
        "id": "5MctR1pUDCPc",
        "colab_type": "code",
        "colab": {}
      },
      "source": [
        "########################Shuffling data########################\n",
        "\n",
        "(p_context, p_knowledge, p_wizard) = shuffle(p_context, p_knowledge,\n",
        "        p_wizard)\n",
        "(us_p_context, us_p_knowledge, us_p_wizard) = shuffle(us_p_context,\n",
        "        us_p_knowledge, us_p_wizard)\n"
      ],
      "execution_count": 0,
      "outputs": []
    },
    {
      "cell_type": "code",
      "metadata": {
        "id": "NhIwDYkpRACM",
        "colab_type": "code",
        "colab": {}
      },
      "source": [
        "def score_F1(true, predicted):\n",
        "    tokenized_predicted = [vocab.word2Index[t] for t in\n",
        "                           predicted.split()]\n",
        "    tokenized_true = [vocab.word2Index[t] for t in true.split()]\n",
        "\n",
        "    length = 0\n",
        "    pos = 0\n",
        "\n",
        "    for i in tokenized_predicted:\n",
        "        if i == 0 or i == 1 or i == 2:\n",
        "            continue\n",
        "        length = length + 1\n",
        "        if i in tokenized_true:\n",
        "            pos = pos + 1\n",
        "\n",
        "    return pos / length\n"
      ],
      "execution_count": 0,
      "outputs": []
    },
    {
      "cell_type": "code",
      "metadata": {
        "id": "91cKhCRrFU4u",
        "colab_type": "code",
        "colab": {}
      },
      "source": [
        "def testing(wizard, num):\n",
        "\n",
        "    positive = 0.0\n",
        "    F1 = 0.0\n",
        "\n",
        "    for i in range(len(wizard)):\n",
        "\n",
        "#         thanks https://stackoverflow.com/questions/3996904/generate-random-integers-between-0-and-9\n",
        "\n",
        "        x = random.randrange(num)\n",
        "\n",
        "        if x == i:\n",
        "            positive = positive + 1\n",
        "\n",
        "        F1 += score_F1(wizard[i], wizard[x])\n",
        "\n",
        "    positive = positive / num\n",
        "    F1 = F1 / num * 100\n",
        "    return (positive, F1)\n"
      ],
      "execution_count": 0,
      "outputs": []
    },
    {
      "cell_type": "code",
      "metadata": {
        "id": "dKUh-Pb4SQlZ",
        "colab_type": "code",
        "colab": {
          "base_uri": "https://localhost:8080/",
          "height": 52
        },
        "outputId": "d58778c0-7354-475c-866f-542bd566fe12"
      },
      "source": [
        "avg_r1 = 0\n",
        "avg_f1 = 0\n",
        "for i in range(num_wizard):\n",
        "    (r1, f1) = testing(p_wizard, num_wizard)\n",
        "    avg_r1 += r1\n",
        "    avg_f1 += f1\n",
        "\n",
        "print('The Average R@1 on the test seen data is: ' + str(avg_r1\n",
        "        / num_wizard))\n",
        "print('The Average F1 on the test seen data is: ' + str(avg_f1\n",
        "        / num_wizard))"
      ],
      "execution_count": 24,
      "outputs": [
        {
          "output_type": "stream",
          "text": [
            "The Average R@1 on the test seen data is: 0.00045530122664459385\n",
            "The Average F1 on the test seen data is: 10.775657375340845\n"
          ],
          "name": "stdout"
        }
      ]
    },
    {
      "cell_type": "code",
      "metadata": {
        "id": "zYqeQ4slVSgb",
        "colab_type": "code",
        "colab": {
          "base_uri": "https://localhost:8080/",
          "height": 52
        },
        "outputId": "61d25d72-0ea2-45fb-e5df-2525ee3c995e"
      },
      "source": [
        "avg_r1 = 0\n",
        "avg_f1 = 0\n",
        "\n",
        "for i in range(us_num_wizard):\n",
        "    (r1, f1) = testing(us_p_wizard, us_num_wizard)\n",
        "    avg_r1 += r1\n",
        "    avg_f1 += f1\n",
        "\n",
        "print('The Average R@1 on test unseen data is: ' + str(avg_r1\n",
        "        / us_num_wizard))\n",
        "print('The Average F1 on test unseen data is: ' + str(avg_f1\n",
        "        / us_num_wizard))\n"
      ],
      "execution_count": 25,
      "outputs": [
        {
          "output_type": "stream",
          "text": [
            "The Average R@1 on test unseen data is: 0.00047240528378573635\n",
            "The Average F1 on test unseen data is: 10.941896969480037\n"
          ],
          "name": "stdout"
        }
      ]
    },
    {
      "cell_type": "code",
      "metadata": {
        "id": "Vvqrqn-vX_vm",
        "colab_type": "code",
        "colab": {}
      },
      "source": [
        ""
      ],
      "execution_count": 0,
      "outputs": []
    }
  ]
}